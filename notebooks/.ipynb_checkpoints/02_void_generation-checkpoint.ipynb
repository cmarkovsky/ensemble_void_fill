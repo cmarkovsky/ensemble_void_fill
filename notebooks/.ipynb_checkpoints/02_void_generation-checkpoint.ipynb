{
 "cells": [
  {
   "cell_type": "markdown",
   "id": "d11723a4-de77-4e14-86af-83a7db735b69",
   "metadata": {},
   "source": [
    "# Ensemble Machine Learning for Void Filling in Glacier Elevation Change Maps\n",
    "\n",
    "## 02 - Artifical Void Generation"
   ]
  },
  {
   "cell_type": "markdown",
   "id": "c39683d7-9115-4269-95c6-f428180a5e6e",
   "metadata": {},
   "source": [
    "### Imports"
   ]
  },
  {
   "cell_type": "code",
   "execution_count": 7,
   "id": "5cdb5569-51e4-49ca-83a0-d7732431bc9c",
   "metadata": {},
   "outputs": [],
   "source": [
    "import geopandas as gpd\n",
    "import pandas as pd\n",
    "import rasterio as rio\n",
    "import numpy as np\n",
    "import matplotlib.pyplot as plt\n",
    "from joblib import Parallel, delayed, cpu_count\n",
    "import multiprocessing\n",
    "import time"
   ]
  },
  {
   "cell_type": "markdown",
   "id": "742a3f83-9f67-4dc4-8ef7-a120fca12f75",
   "metadata": {},
   "source": [
    "### Load the Data"
   ]
  },
  {
   "cell_type": "code",
   "execution_count": 2,
   "id": "d85484d7-9c25-47fc-81fd-a4c30be5bf7e",
   "metadata": {},
   "outputs": [],
   "source": [
    "ehim_pts = gpd.read_file('../data/raw/ehim_dh_pts.shp')\n",
    "ehim_ds = pd.read_csv('../data/raw/ehim_dataset.csv')"
   ]
  },
  {
   "cell_type": "code",
   "execution_count": null,
   "id": "812e3c01-3dcb-4256-b9d7-31f05e38e7e4",
   "metadata": {},
   "outputs": [],
   "source": [
    "# whim_pts = gpd.read_file('../data/raw/whim_dh_pts.shp')\n",
    "# whim_ds = pd.read_csv('../raw/MODEL_DATASETS/whim_dataset.csv')"
   ]
  },
  {
   "cell_type": "code",
   "execution_count": 3,
   "id": "6c3842f2-638a-428b-bb5c-ad3d876eb9a7",
   "metadata": {},
   "outputs": [],
   "source": [
    "def convert_to_xarray(df):\n",
    "    # Set the index to ['x', 'y']\n",
    "    df_indexed = df.set_index(['y', 'x'])\n",
    "    \n",
    "    # Convert to xarray DataArray\n",
    "    dem = df_indexed['elevation'].to_xarray()\n",
    "    return dem\n",
    "    \n",
    "def build_void(dem, zmed, block_percent=0.37):\n",
    "    elevation_threshold = dem.median()\n",
    "    ge_mask = dem.where(dem >= elevation_threshold, np.NaN)\n",
    "    ds = dem.to_dataset(name = 'elevation')\n",
    "    ds = ds.assign(ge_mask = ge_mask)\n",
    "    full_count = np.count_nonzero(~np.isnan(ds['elevation']))\n",
    "    ge_med_count = np.count_nonzero(~np.isnan(ds['ge_mask']))\n",
    "    med_percent = ge_med_count / full_count\n",
    "    block_percent = 0.37\n",
    "    if med_percent < block_percent:\n",
    "        block_percent = med_percent\n",
    "        \n",
    "    block_size = int(full_count * block_percent)\n",
    "    \n",
    "    \n",
    "    # Initialize the mask with False\n",
    "    mask = np.zeros_like(ds['ge_mask'].values, dtype=bool)\n",
    "    \n",
    "    # Find all non-NaN values\n",
    "    non_nan_indices = np.argwhere(~np.isnan(ds['ge_mask'].values))\n",
    "    # Randomly select a starting index\n",
    "    np.random.seed(42)\n",
    "    start_index = non_nan_indices[np.random.choice(non_nan_indices.shape[0])]\n",
    "    x, y = start_index\n",
    "    \n",
    "    # Create a queue for BFS\n",
    "    queue = [(x, y)]\n",
    "    mask[x, y] = True\n",
    "    count = 1\n",
    "    \n",
    "    # Directions for 4-connectivity (up, down, left, right)\n",
    "    directions = [(-1, 0), (1, 0), (0, -1), (0, 1)]\n",
    "    \n",
    "    while queue and count < block_size:\n",
    "        cx, cy = queue.pop(0)\n",
    "        for dx, dy in directions:\n",
    "            nx, ny = cx + dx, cy + dy\n",
    "            if 0 <= nx < dem.shape[0] and 0 <= ny < dem.shape[1] and not mask[nx, ny] and not np.isnan(ds['ge_mask'].values[nx, ny]):\n",
    "                mask[nx, ny] = True\n",
    "                queue.append((nx, ny))\n",
    "                count += 1\n",
    "                if count >= block_size:\n",
    "                    break\n",
    "    \n",
    "    void_mask = dem.where(mask, np.NaN)\n",
    "    ds = ds.assign(void_mask = void_mask)\n",
    "\n",
    "    plot = False\n",
    "\n",
    "    if plot == True:\n",
    "        plt.figure()\n",
    "        ds['elevation'].plot(cmap ='Greys_r')\n",
    "        # ds['ge_mask'].plot(cmap = 'Blues_r', legend = False)\n",
    "        ds['void_mask'].plot(cmap = 'Reds_r')\n",
    "        plt.show()\n",
    "        \n",
    "    df = ds.to_dataframe().reset_index()\n",
    "    df_non_nan = df.dropna(subset=['elevation']).copy()\n",
    "    df_non_nan['void_mask'] = ~np.isnan(df['void_mask'])\n",
    "    df_non_nan = df_non_nan.reset_index(drop=True)\n",
    "    return df_non_nan\n"
   ]
  },
  {
   "cell_type": "code",
   "execution_count": 9,
   "id": "07d6d5e6-8e51-4210-8421-cb888f289745",
   "metadata": {},
   "outputs": [],
   "source": [
    "def add_void(gdf):\n",
    "    zmed = gdf['Zmed'].iloc[0]\n",
    "    dem = convert_to_xarray(gdf)\n",
    "    void_df = build_void(dem, zmed)\n",
    "    full_df = gdf.reset_index().set_index(['x', 'y']).join(void_df.set_index(['x', 'y']), rsuffix='_void')\n",
    "    return full_df.reset_index().set_index('RGIId_Full')"
   ]
  },
  {
   "cell_type": "code",
   "execution_count": 4,
   "id": "b8a2ea41-59b0-40ea-a406-bd4e603f955b",
   "metadata": {},
   "outputs": [],
   "source": [
    "def add_voids(reg_df, parallel = True):\n",
    "    # print(reg_df.columns)\n",
    "    rgi_ids = reg_df.index.unique()\n",
    "    # bad_rgis = ['RGI60-15.02996', 'RGI60-15.02995', 'RGI60-15.03062']\n",
    "    if parallel:\n",
    "        glacier_dfs = Parallel(n_jobs=-1)(delayed(add_void)(reg_df.loc[rgi]) for rgi in rgi_ids)\n",
    "    else:\n",
    "        glacier_dfs = []\n",
    "        for rgi in rgi_ids:\n",
    "            # reg_df.loc[rgi]\n",
    "            g_df = add_void(reg_df.loc[rgi])\n",
    "            glacier_dfs.append(g_df)\n",
    "            \n",
    "    return pd.concat(glacier_dfs)\n",
    "    \n",
    "    # rgi_ids = reg_df['RGIId_Full'].unique()\n",
    "    # print(rgi_ids)"
   ]
  },
  {
   "cell_type": "code",
   "execution_count": 5,
   "id": "d65ec765-0051-41f3-b464-2154557730b5",
   "metadata": {},
   "outputs": [],
   "source": [
    "# CONVERTING AND SAVING THE EHIM DATA\n",
    "\n",
    "ehim_full = ehim_pts.set_index('RGIId_x').join(ehim_ds.set_index('RGIId_Full'))\n",
    "ehim_full.index.names = ['RGIId_Full']\n",
    "ehim_full['x'], ehim_full['y'] = ehim_full['geometry'].x, ehim_full['geometry'].y"
   ]
  },
  {
   "cell_type": "code",
   "execution_count": 10,
   "id": "57286e96-d251-4d00-bd2a-2330c76d0775",
   "metadata": {},
   "outputs": [
    {
     "name": "stdout",
     "output_type": "stream",
     "text": [
      "time (s): 265.41838908195496\n"
     ]
    }
   ],
   "source": [
    "start = time.time()\n",
    "ehim_void_df = add_voids(ehim_full, parallel  = True)\n",
    "end = time.time()\n",
    "print(f'time (s): {end - start}')\n",
    "\n"
   ]
  },
  {
   "cell_type": "code",
   "execution_count": null,
   "id": "b6029b50-f14f-4f3d-bfcc-ad48fb6a4b98",
   "metadata": {},
   "outputs": [],
   "source": [
    "# CONVERTING AND SAVING THE WHIM DATA\n",
    "\n",
    "whim_full = whim_pts.set_index('RGIId_x').join(whim_ds.set_index('RGIId_Full'))\n",
    "whim_full.index.names = ['RGIId_Full']\n",
    "whim_full['x'], whim_full['y'] = whim_full['geometry'].x, whim_full['geometry'].y"
   ]
  },
  {
   "cell_type": "code",
   "execution_count": null,
   "id": "9a06ade8-a1b1-42f6-aaf6-1b9360b4967f",
   "metadata": {},
   "outputs": [],
   "source": [
    "## CONVERTING AND SAVING THE WHIM DATA\n",
    "\n",
    "# whim_full = whim_pts.set_index('RGIId_x').join(whim_ds.set_index('RGIId_Full'))\n",
    "# whim_full.index.names = ['RGIId_Full']\n",
    "# whim_full['x'], whim_full['y'] = whim_full['geometry'].x, whim_full['geometry'].y\n",
    "# cols = ['x', 'y', 'elevation', 'dh1', 'Area', 'Zmin', 'Zmax', 'Slope', 'dc_ratio', 'HI', 'sin_Aspect', 'cos_Aspect']\n",
    "# whim_df = whim_full[cols]\n",
    "# whim_df.rename({'elevation':'z', 'dh1':'dh'}, axis = 1)\n",
    "# whim_df.to_csv('./data/FINAL/whim_full.csv')"
   ]
  }
 ],
 "metadata": {
  "kernelspec": {
   "display_name": "Python 3 (ipykernel)",
   "language": "python",
   "name": "python3"
  },
  "language_info": {
   "codemirror_mode": {
    "name": "ipython",
    "version": 3
   },
   "file_extension": ".py",
   "mimetype": "text/x-python",
   "name": "python",
   "nbconvert_exporter": "python",
   "pygments_lexer": "ipython3",
   "version": "3.12.4"
  }
 },
 "nbformat": 4,
 "nbformat_minor": 5
}

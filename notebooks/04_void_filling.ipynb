{
 "cells": [
  {
   "cell_type": "markdown",
   "id": "38910a93-4580-4f08-b16a-a81fa2b09792",
   "metadata": {},
   "source": [
    "# Ensemble Machine Learning for Void Filling in Glacier Elevation Change Maps\n",
    "*By Cameron Markovsky*\n",
    "\n",
    "## 04 - Void Filling"
   ]
  },
  {
   "cell_type": "code",
   "execution_count": null,
   "id": "e44141f2-1a9b-4a21-a69b-11879901365e",
   "metadata": {},
   "outputs": [],
   "source": []
  }
 ],
 "metadata": {
  "kernelspec": {
   "display_name": "Python 3 (ipykernel)",
   "language": "python",
   "name": "python3"
  },
  "language_info": {
   "codemirror_mode": {
    "name": "ipython",
    "version": 3
   },
   "file_extension": ".py",
   "mimetype": "text/x-python",
   "name": "python",
   "nbconvert_exporter": "python",
   "pygments_lexer": "ipython3",
   "version": "3.12.4"
  }
 },
 "nbformat": 4,
 "nbformat_minor": 5
}
